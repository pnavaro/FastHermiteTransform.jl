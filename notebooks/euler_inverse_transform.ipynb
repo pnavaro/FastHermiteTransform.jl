{
 "cells": [
  {
   "cell_type": "markdown",
   "metadata": {},
   "source": [
    "Points equally spaced\n",
    "$$\n",
    "x_k - x_{k-1} = \\frac{C}{M_1}\n",
    "$$\n",
    "\n",
    "$$\n",
    "\\hat{f}_{c,M_1}(n) = \\hat{f}_c(n) = \\sum_{k=0}^{M_1-1} f(x_k) c_n(x_k) \\qquad 0 \\leq n < M,\n",
    "$$\n",
    "\n",
    "$$\n",
    "c_n(x_k) = \\frac{c_k C}{M} \\sqrt{w(x_k)} p_n(x_k)\n",
    "$$\n",
    "$c_k$ depends on the integration technique\n",
    "\n"
   ]
  },
  {
   "cell_type": "code",
   "execution_count": null,
   "metadata": {},
   "outputs": [],
   "source": []
  }
 ],
 "metadata": {
  "jupytext": {
   "formats": "ipynb,jl:light"
  },
  "kernelspec": {
   "display_name": "Julia 1.3.1",
   "language": "julia",
   "name": "julia-1.3"
  },
  "language_info": {
   "file_extension": ".jl",
   "mimetype": "application/julia",
   "name": "julia",
   "version": "1.3.1"
  }
 },
 "nbformat": 4,
 "nbformat_minor": 4
}
